{
 "cells": [
  {
   "cell_type": "code",
   "execution_count": 1,
   "id": "fffa5c6b",
   "metadata": {},
   "outputs": [],
   "source": [
    "#OLS Regression"
   ]
  },
  {
   "cell_type": "code",
   "execution_count": 1,
   "id": "8a06e5b0",
   "metadata": {},
   "outputs": [],
   "source": [
    "#Import Packages\n",
    "import os\n",
    "import pandas as pd\n",
    "import numpy\n",
    "import seaborn as sns\n",
    "from scipy.stats.mstats import winsorize\n",
    "import numpy as np\n",
    "from scipy.stats import chi2\n",
    "from scipy.stats import shapiro\n",
    "import matplotlib.pyplot as plt\n",
    "from scipy import stats\n",
    "from scipy.stats import kstest\n",
    "from scipy.stats import pearsonr\n",
    "from scipy.stats import spearmanr"
   ]
  },
  {
   "cell_type": "code",
   "execution_count": 2,
   "id": "9c5aecac",
   "metadata": {},
   "outputs": [
    {
     "data": {
      "text/plain": [
       "'/Users/jackcrosby/Downloads'"
      ]
     },
     "execution_count": 2,
     "metadata": {},
     "output_type": "execute_result"
    }
   ],
   "source": [
    "os.getcwd()\n",
    "os.chdir('/Users/[REDACTED]/Downloads')\n",
    "os.getcwd()"
   ]
  },
  {
   "cell_type": "code",
   "execution_count": 2,
   "id": "51d8e76e",
   "metadata": {},
   "outputs": [],
   "source": [
    "pd.set_option('display.max_columns', None)\n",
    "pd.set_option('display.max_rows', None)\n",
    "df1 = pd.read_excel('Sarah_Data.xlsx')\n",
    "display(df1)"
   ]
  },
  {
   "cell_type": "code",
   "execution_count": 4,
   "id": "1d414cb9",
   "metadata": {},
   "outputs": [],
   "source": [
    "import statsmodels.formula.api as smf"
   ]
  },
  {
   "cell_type": "code",
   "execution_count": 18,
   "id": "9d2ee926",
   "metadata": {},
   "outputs": [
    {
     "data": {
      "text/html": [
       "<table class=\"simpletable\">\n",
       "<caption>OLS Regression Results</caption>\n",
       "<tr>\n",
       "  <th>Dep. Variable:</th>     <td>BDI_Categorical</td> <th>  R-squared:         </th> <td>   0.397</td>\n",
       "</tr>\n",
       "<tr>\n",
       "  <th>Model:</th>                   <td>OLS</td>       <th>  Adj. R-squared:    </th> <td>   0.368</td>\n",
       "</tr>\n",
       "<tr>\n",
       "  <th>Method:</th>             <td>Least Squares</td>  <th>  F-statistic:       </th> <td>   13.66</td>\n",
       "</tr>\n",
       "<tr>\n",
       "  <th>Date:</th>             <td>Wed, 27 Apr 2022</td> <th>  Prob (F-statistic):</th> <td>1.34e-08</td>\n",
       "</tr>\n",
       "<tr>\n",
       "  <th>Time:</th>                 <td>12:22:04</td>     <th>  Log-Likelihood:    </th> <td> -312.51</td>\n",
       "</tr>\n",
       "<tr>\n",
       "  <th>No. Observations:</th>      <td>    88</td>      <th>  AIC:               </th> <td>   635.0</td>\n",
       "</tr>\n",
       "<tr>\n",
       "  <th>Df Residuals:</th>          <td>    83</td>      <th>  BIC:               </th> <td>   647.4</td>\n",
       "</tr>\n",
       "<tr>\n",
       "  <th>Df Model:</th>              <td>     4</td>      <th>                     </th>     <td> </td>   \n",
       "</tr>\n",
       "<tr>\n",
       "  <th>Covariance Type:</th>      <td>nonrobust</td>    <th>                     </th>     <td> </td>   \n",
       "</tr>\n",
       "</table>\n",
       "<table class=\"simpletable\">\n",
       "<tr>\n",
       "          <td></td>             <th>coef</th>     <th>std err</th>      <th>t</th>      <th>P>|t|</th>  <th>[0.025</th>    <th>0.975]</th>  \n",
       "</tr>\n",
       "<tr>\n",
       "  <th>Intercept</th>         <td>   12.5782</td> <td>   12.184</td> <td>    1.032</td> <td> 0.305</td> <td>  -11.654</td> <td>   36.811</td>\n",
       "</tr>\n",
       "<tr>\n",
       "  <th>BCE</th>               <td>   -1.8968</td> <td>    0.441</td> <td>   -4.304</td> <td> 0.000</td> <td>   -2.773</td> <td>   -1.020</td>\n",
       "</tr>\n",
       "<tr>\n",
       "  <th>Extraversion</th>      <td>    0.0284</td> <td>    0.077</td> <td>    0.370</td> <td> 0.712</td> <td>   -0.124</td> <td>    0.181</td>\n",
       "</tr>\n",
       "<tr>\n",
       "  <th>Neuroticism</th>       <td>    0.3750</td> <td>    0.106</td> <td>    3.525</td> <td> 0.001</td> <td>    0.163</td> <td>    0.587</td>\n",
       "</tr>\n",
       "<tr>\n",
       "  <th>Conscientiousness</th> <td>   -0.1576</td> <td>    0.082</td> <td>   -1.921</td> <td> 0.058</td> <td>   -0.321</td> <td>    0.006</td>\n",
       "</tr>\n",
       "</table>\n",
       "<table class=\"simpletable\">\n",
       "<tr>\n",
       "  <th>Omnibus:</th>       <td> 4.186</td> <th>  Durbin-Watson:     </th> <td>   2.136</td>\n",
       "</tr>\n",
       "<tr>\n",
       "  <th>Prob(Omnibus):</th> <td> 0.123</td> <th>  Jarque-Bera (JB):  </th> <td>   4.148</td>\n",
       "</tr>\n",
       "<tr>\n",
       "  <th>Skew:</th>          <td> 0.494</td> <th>  Prob(JB):          </th> <td>   0.126</td>\n",
       "</tr>\n",
       "<tr>\n",
       "  <th>Kurtosis:</th>      <td> 2.605</td> <th>  Cond. No.          </th> <td>1.47e+03</td>\n",
       "</tr>\n",
       "</table><br/><br/>Notes:<br/>[1] Standard Errors assume that the covariance matrix of the errors is correctly specified.<br/>[2] The condition number is large, 1.47e+03. This might indicate that there are<br/>strong multicollinearity or other numerical problems."
      ],
      "text/plain": [
       "<class 'statsmodels.iolib.summary.Summary'>\n",
       "\"\"\"\n",
       "                            OLS Regression Results                            \n",
       "==============================================================================\n",
       "Dep. Variable:        BDI_Categorical   R-squared:                       0.397\n",
       "Model:                            OLS   Adj. R-squared:                  0.368\n",
       "Method:                 Least Squares   F-statistic:                     13.66\n",
       "Date:                Wed, 27 Apr 2022   Prob (F-statistic):           1.34e-08\n",
       "Time:                        12:22:04   Log-Likelihood:                -312.51\n",
       "No. Observations:                  88   AIC:                             635.0\n",
       "Df Residuals:                      83   BIC:                             647.4\n",
       "Df Model:                           4                                         \n",
       "Covariance Type:            nonrobust                                         \n",
       "=====================================================================================\n",
       "                        coef    std err          t      P>|t|      [0.025      0.975]\n",
       "-------------------------------------------------------------------------------------\n",
       "Intercept            12.5782     12.184      1.032      0.305     -11.654      36.811\n",
       "BCE                  -1.8968      0.441     -4.304      0.000      -2.773      -1.020\n",
       "Extraversion          0.0284      0.077      0.370      0.712      -0.124       0.181\n",
       "Neuroticism           0.3750      0.106      3.525      0.001       0.163       0.587\n",
       "Conscientiousness    -0.1576      0.082     -1.921      0.058      -0.321       0.006\n",
       "==============================================================================\n",
       "Omnibus:                        4.186   Durbin-Watson:                   2.136\n",
       "Prob(Omnibus):                  0.123   Jarque-Bera (JB):                4.148\n",
       "Skew:                           0.494   Prob(JB):                        0.126\n",
       "Kurtosis:                       2.605   Cond. No.                     1.47e+03\n",
       "==============================================================================\n",
       "\n",
       "Notes:\n",
       "[1] Standard Errors assume that the covariance matrix of the errors is correctly specified.\n",
       "[2] The condition number is large, 1.47e+03. This might indicate that there are\n",
       "strong multicollinearity or other numerical problems.\n",
       "\"\"\""
      ]
     },
     "metadata": {},
     "output_type": "display_data"
    }
   ],
   "source": [
    "qwerty = smf.ols('BDI_Categorical ~ BCE+Extraversion+Neuroticism+Conscientiousness', data=df1).fit()\n",
    "display(qwerty.summary())"
   ]
  },
  {
   "cell_type": "code",
   "execution_count": 16,
   "id": "ae4b1c99",
   "metadata": {},
   "outputs": [
    {
     "data": {
      "text/plain": [
       "[('Lagrange multiplier statistic', 6.993040998545905),\n",
       " ('p-value', 0.13625643407688673),\n",
       " ('f-value', 1.7912732746482052),\n",
       " ('f p-value', 0.13832398034224527)]"
      ]
     },
     "execution_count": 16,
     "metadata": {},
     "output_type": "execute_result"
    }
   ],
   "source": [
    "\n",
    "from statsmodels.compat import lzip\n",
    "import statsmodels.stats.api as sms\n",
    "\n",
    "#perform Bresuch-Pagan test\n",
    "names = ['Lagrange multiplier statistic', 'p-value',\n",
    "        'f-value', 'f p-value']\n",
    "test = sms.het_breuschpagan(qwerty.resid, fit.model.exog)\n",
    "\n",
    "lzip(names, test)"
   ]
  }
 ],
 "metadata": {
  "kernelspec": {
   "display_name": "Python 3 (ipykernel)",
   "language": "python",
   "name": "python3"
  },
  "language_info": {
   "codemirror_mode": {
    "name": "ipython",
    "version": 3
   },
   "file_extension": ".py",
   "mimetype": "text/x-python",
   "name": "python",
   "nbconvert_exporter": "python",
   "pygments_lexer": "ipython3",
   "version": "3.9.7"
  }
 },
 "nbformat": 4,
 "nbformat_minor": 5
}
